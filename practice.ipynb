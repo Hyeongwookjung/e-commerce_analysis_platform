{
 "cells": [
  {
   "cell_type": "code",
   "execution_count": 1,
   "metadata": {},
   "outputs": [
    {
     "name": "stdout",
     "output_type": "stream",
     "text": [
      "('64bit', 'WindowsPE')\n"
     ]
    }
   ],
   "source": [
    "import platform \n",
    "print(platform.architecture())\n"
   ]
  },
  {
   "cell_type": "code",
   "execution_count": 2,
   "metadata": {},
   "outputs": [
    {
     "name": "stderr",
     "output_type": "stream",
     "text": [
      "c:\\Users\\ekam3\\AppData\\Local\\Programs\\Python\\Python310\\lib\\site-packages\\requests\\__init__.py:102: RequestsDependencyWarning: urllib3 (1.26.8) or chardet (5.0.0)/charset_normalizer (2.0.10) doesn't match a supported version!\n",
      "  warnings.warn(\"urllib3 ({}) or chardet ({})/charset_normalizer ({}) doesn't match a supported \"\n"
     ]
    }
   ],
   "source": [
    "#알수없음\n",
    "from ast import keyword\n",
    "# from asyncio import FastChildWatcher\n",
    "from atexit import register\n",
    "from glob import glob\n",
    "\n",
    "#DB모듈\n",
    "from sqlite3 import connect\n",
    "from tkinter.ttk import Progressbar\n",
    "from django import get_version\n",
    "import pymysql\n",
    "import sqlite3\n",
    "# from test import fetcher\n",
    "# pyrcc5 test.qrc -o ./test_rc.py\n",
    "\n",
    "#시스템모듈\n",
    "import sys\n",
    "import os\n",
    "import time\n",
    "import datetime\n",
    "import json\n",
    "\n",
    "#UI모듈\n",
    "from PyQt5.QtGui import *\n",
    "from PyQt5 import uic\n",
    "# from PyQt5.QtWidgets import *\n",
    "from PyQt5.QtWidgets import QDialog, QMainWindow, QApplication, QMessageBox, QFileDialog, QTableWidgetItem\n",
    "from PyQt5 import QtGui\n",
    "# from PyQt5 import QtCore, QtGui, QtWidgets\n",
    "import qdarktheme\n",
    "from PyQt5.QtCore import Qt, QDate, QCoreApplication, QThread, QTimer\n",
    "# from PyQt5.QtCore import *\n",
    "#pip install pyqtdarktheme\n",
    "\n",
    "#부가기능\n",
    "import webbrowser\n",
    "import requests\n",
    "import threading\n",
    "from concurrent.futures import ThreadPoolExecutor\n",
    "import concurrent.futures\n",
    "import re, uuid #MAC\n",
    "import pickle\n",
    "import csv\n",
    "import gc\n",
    "import random\n",
    "\n",
    "#데이터분석\n",
    "import pandas as pd\n",
    "import numpy as np\n",
    "import warnings\n",
    "warnings.filterwarnings(action='ignore')\n",
    "from xgboost import XGBRegressor\n",
    "from sklearn.model_selection import train_test_split, GridSearchCV, KFold, cross_val_score\n",
    "\n",
    "#Misc\n",
    "from sklearn.metrics import mean_squared_error\n",
    "from sklearn.preprocessing import scale, MinMaxScaler\n",
    "\n",
    "#자연어\n",
    "import collections\n",
    "from konlpy.tag import Okt\n",
    "from collections import Counter"
   ]
  },
  {
   "cell_type": "code",
   "execution_count": 3,
   "metadata": {},
   "outputs": [
    {
     "name": "stdout",
     "output_type": "stream",
     "text": [
      "[16:03:17] WARNING: C:/Users/administrator/workspace/xgboost-win64_release_1.6.0/src/objective/regression_obj.cu:203: reg:linear is now deprecated in favor of reg:squarederror.\n",
      "[16:03:17] WARNING: C:/Users/administrator/workspace/xgboost-win64_release_1.6.0/src/objective/regression_obj.cu:203: reg:linear is now deprecated in favor of reg:squarederror.\n",
      "[16:03:18] WARNING: C:/Users/administrator/workspace/xgboost-win64_release_1.6.0/src/objective/regression_obj.cu:203: reg:linear is now deprecated in favor of reg:squarederror.\n",
      "[16:03:18] WARNING: C:/Users/administrator/workspace/xgboost-win64_release_1.6.0/src/objective/regression_obj.cu:203: reg:linear is now deprecated in favor of reg:squarederror.\n",
      "[16:03:18] WARNING: C:/Users/administrator/workspace/xgboost-win64_release_1.6.0/src/objective/regression_obj.cu:203: reg:linear is now deprecated in favor of reg:squarederror.\n",
      "[16:03:18] WARNING: C:/Users/administrator/workspace/xgboost-win64_release_1.6.0/src/objective/regression_obj.cu:203: reg:linear is now deprecated in favor of reg:squarederror.\n",
      "[16:03:19] WARNING: C:/Users/administrator/workspace/xgboost-win64_release_1.6.0/src/objective/regression_obj.cu:203: reg:linear is now deprecated in favor of reg:squarederror.\n",
      "[16:03:19] WARNING: C:/Users/administrator/workspace/xgboost-win64_release_1.6.0/src/objective/regression_obj.cu:203: reg:linear is now deprecated in favor of reg:squarederror.\n",
      "[16:03:19] WARNING: C:/Users/administrator/workspace/xgboost-win64_release_1.6.0/src/objective/regression_obj.cu:203: reg:linear is now deprecated in favor of reg:squarederror.\n",
      "[16:03:20] WARNING: C:/Users/administrator/workspace/xgboost-win64_release_1.6.0/src/objective/regression_obj.cu:203: reg:linear is now deprecated in favor of reg:squarederror.\n",
      "[16:03:20] WARNING: C:/Users/administrator/workspace/xgboost-win64_release_1.6.0/src/objective/regression_obj.cu:203: reg:linear is now deprecated in favor of reg:squarederror.\n"
     ]
    }
   ],
   "source": [
    "from math import gamma\n",
    "import xgboost\n",
    "\n",
    "\n",
    "ai_date = datetime.datetime.now()\n",
    "ai_date = ai_date.date()\n",
    "ai_date_n = ['%04d' % ai_date.year, '%02d' % ai_date.month,'%02d' % ai_date.day]\n",
    "ai_date_n = ''.join(ai_date_n)\n",
    "# print(ai_date_n)\n",
    "ai_date = ai_date - datetime.timedelta(days=30)\n",
    "ai_date = ['%04d' % ai_date.year, '%02d' % ai_date.month,'%02d' % ai_date.day]\n",
    "ai_date_p = ''.join(ai_date)\n",
    "# print(ai_date_p)\n",
    "\n",
    "#카테고리추천\n",
    "item_result = pd.read_excel('./aaa.xlsx', engine='openpyxl')\n",
    "#중복카테고리 다 제거한 데이터프레임 생성\n",
    "item_category = item_result.drop_duplicates(['카테고리'], ignore_index=True)\n",
    "item_category = item_category[['No','대분류','중분류','소분류','세분류','카테고리']]\n",
    "item_category.insert(6,'구매상품수_1개월','-')\n",
    "item_category.insert(7,'등록상품수_1개월','-')\n",
    "item_category.insert(8,'구매/등록','-')\n",
    "item_category.insert(9,'경쟁강도_AI','-')\n",
    "item_category.insert(10,'상품명_추천','-')\n",
    "item_category.insert(11,'태그명_추천','-')\n",
    "# print(item_category)\n",
    "\n",
    "#원핫인코딩\n",
    "item_result.loc[item_result['구매'] == 0, '구매'] = 0\n",
    "item_result.loc[item_result['구매'] != 0, '구매'] = 1\n",
    "item_result.loc[item_result['찜'] == 0, '찜'] = 0\n",
    "item_result.loc[item_result['찜'] != 0, '찜'] = 1\n",
    "item_result.loc[item_result['문의'] == 0, '문의'] = 0\n",
    "item_result.loc[item_result['문의'] != 0, '문의'] = 1\n",
    "item_result.loc[item_result['옵션_L'] == '', '옵션_L'] = 0\n",
    "item_result.loc[item_result['옵션_L'] != '', '옵션_L'] = 1\n",
    "item_result.loc[item_result['태그_L'] == '', '태그_L'] = 0\n",
    "item_result.loc[item_result['태그_L'] != '', '태그_L'] = 1\n",
    "item_result = item_result[['카테고리','순위','등록일자','구매','찜','문의','상품명','옵션_L','태그','태그_L']]\n",
    "item_result = item_result.astype({'카테고리':'int','순위':'int','등록일자':'int','구매':'int','찜':'int','문의':'int','옵션_L':'int','태그_L':'int'})\n",
    "# item_result = item_result.astype('int')\n",
    "# print(item_result)\n",
    "\n",
    "#테스트 데이터프레임 생성\n",
    "item_predict = pd.DataFrame({'순위':[1000],\n",
    "                             '등록일자':[ai_date_n],\n",
    "                             '구매':[0],\n",
    "                             '찜':[0],\n",
    "                             '문의':[0],\n",
    "                             '옵션_L':[0],\n",
    "                             '태그_L':[0]})\n",
    "# print(item_predict)\n",
    "ac_category = list(item_category['카테고리'])\n",
    "\n",
    "for idx, category in enumerate(ac_category):\n",
    "    ac_category = (item_result.카테고리 == category)\n",
    "    ac_date = (item_result.등록일자 > int(ai_date_p))\n",
    "    ac_df = item_result.loc[ac_category & ac_date, ['순위', '등록일자', '구매', '찜', '문의', '옵션_L', '태그_L']]\n",
    "    ac_pur = sum(list(ac_df['구매']))\n",
    "    ac_app = len(list(ac_df['구매']))\n",
    "\n",
    "    #머신러닝\n",
    "    item_predict.loc[0, '등록일자'] = int(ac_df['등록일자'].max())\n",
    "    item_predict.loc[0, '순위'] = int(ac_df['순위'].max())\n",
    "\n",
    "    x_train = ac_df.drop(['구매'], axis=1)\n",
    "    y_train = ac_df['구매']\n",
    "    x_test = item_predict.drop(['구매'], axis=1)\n",
    "    y_test = item_predict['구매']\n",
    "\n",
    "    scaler = MinMaxScaler()\n",
    "    scaler.fit(x_train)\n",
    "    scaler.fit(x_test)\n",
    "\n",
    "    x_train = scaler.transform(x_train)\n",
    "    x_test = scaler.transform(x_test)\n",
    "\n",
    "    kf = KFold(n_splits=10, random_state=1, shuffle=True)\n",
    "\n",
    "    def rmsle(y_test, y_pred):\n",
    "        return np.sqrt(mean_squared_error(y_test, y_pred))\n",
    "    def cv_rmse(model, x_train=x_train):\n",
    "        rmse = np.sqrt(-cross_val_score(model, x_train, y_train, scoings='meg_mean_squared_error', cv=kf))\n",
    "\n",
    "    xgboost = XGBRegressor(learning_rate=0.3,\n",
    "                            n_estimators=500,\n",
    "                            max_depth=3,\n",
    "                            min_child_weight=0,\n",
    "                            gamma=0.6,\n",
    "                            subsample=0.7,\n",
    "                            colsample_bytree=0.7,\n",
    "                            objective='reg:linear',\n",
    "                            nthread=-1,\n",
    "                            scale_pos_weight=1,\n",
    "                            seed=27,\n",
    "                            reg_alpha=0.00006,\n",
    "                            random_state=42)\n",
    "    xgb_model_full_data = xgboost.fit(x_train, y_train)\n",
    "    ac_result = xgb_model_full_data.predict(x_test)\n",
    "\n",
    "    item_category.loc[idx, '구매상품수_1개월'] = ac_pur\n",
    "    item_category.loc[idx, '등록상품수_1개월'] = ac_app\n",
    "    item_category.loc[idx, '구매/등록'] = '%0.6f' % float(ac_pur/ac_app)\n",
    "    item_category.loc[idx, '경쟁강도_AI'] = ac_result\n",
    "\n",
    "# print(item_category)\n"
   ]
  },
  {
   "cell_type": "code",
   "execution_count": 49,
   "metadata": {},
   "outputs": [
    {
     "name": "stdout",
     "output_type": "stream",
     "text": [
      "    No      대분류       중분류    소분류          세분류      카테고리 구매상품수_1개월 등록상품수_1개월  \\\n",
      "0    1  가구/인테리어  DIY자재/용품  가구부속품         가구다리  50003307         0        34   \n",
      "1    2  가구/인테리어  DIY자재/용품  가구부속품         가구바퀴  50003308         0        64   \n",
      "2    3  가구/인테리어  DIY자재/용품  가구부속품  경첩/꺽쇠/자석철물류  50003309         1        33   \n",
      "3    4  가구/인테리어  DIY자재/용품  가구부속품      기타가구부속품  50003314         5        10   \n",
      "4    5  가구/인테리어  DIY자재/용품  가구부속품         나사/못  50003310         0        15   \n",
      "5    6  가구/인테리어  DIY자재/용품  가구부속품        로프/철망  50003311         0        41   \n",
      "6    8  가구/인테리어  DIY자재/용품  가구부속품      소켓/옷걸이봉  50003313         0        62   \n",
      "7    9  가구/인테리어  DIY자재/용품  데코스티커          NaN  50001066         5       693   \n",
      "8   10  가구/인테리어  DIY자재/용품   리모델링          싱크대  50008228         2        41   \n",
      "9   11  가구/인테리어  DIY자재/용품   리모델링        욕실/바스  50008208         0        29   \n",
      "10  12  가구/인테리어  DIY자재/용품   리모델링           중문  50008188         0         3   \n",
      "\n",
      "       구매/등록   경쟁강도_AI                                             상품명_추천  \\\n",
      "0   0.000000  0.000002  철재다리 테이블다리 철다리 철재선반 철재파티션 데코타일 주방타일데코및보수 바닥타일 ...   \n",
      "1   0.000000  0.000001    바퀴 의자바퀴 사무실의자 이동바퀴 가구부속 중량 산업용바퀴 미니바퀴 운반용바퀴 운반용   \n",
      "2   0.030303  0.034425                                                      \n",
      "3   0.500000  0.274238  편리한접착 엔틱느낌 세련된인테리어 감각적인 깔끔하고튼튼한 감각있는 화이트모던 깔끔한...   \n",
      "4   0.000000  0.000004  철판피스 목재피스 접시머리피스 석고피스 나사못 스크류 스텐나사 스텐나사못 철판피스철...   \n",
      "5   0.000000  0.000002  강아지울타리펜스 개울타리 반려견펜스 휀스울타리 애견용품울타리 반려견울타리 강아지용품...   \n",
      "6   0.000000  0.000001  걸이 벽옷걸이 벽면옷걸이 벽걸이행거 DIY 실내 벽걸이 방꾸미기 선반형헹거 바퀴달린...   \n",
      "7   0.007215  0.001616  안내판 표지판 안내문구 가게안내판 알림 알림판 가게안내판 아트플레이어 인레터 판박이...   \n",
      "8   0.048780  0.022305  씽크대부속 싱크대배수구 배수구용품 씽크대배수구 배수구부속 싱크배수통 싱크대냄새 부품...   \n",
      "9   0.000000  0.000002  세면수전용품 원홀수전 폰타나수전 수전예쁜곳 욕실인테리어 욕실리모델링 세면수전 세면수...   \n",
      "10  0.000000   0.00002  현관중문 3연동중문 슬라이딩도어 아파트인테리어 스윙도어 현관인테리어 아파트중문 현관...   \n",
      "\n",
      "   태그명_추천  \n",
      "0       -  \n",
      "1       -  \n",
      "2       -  \n",
      "3       -  \n",
      "4       -  \n",
      "5       -  \n",
      "6       -  \n",
      "7       -  \n",
      "8       -  \n",
      "9       -  \n",
      "10      -  \n"
     ]
    }
   ],
   "source": [
    "#############################\n",
    "#상품추천\n",
    "ai_date = datetime.datetime.now()\n",
    "ai_date = ai_date.date()\n",
    "ai_date_nn = ['%04d' % ai_date.year, '%02d' % ai_date.month,'%02d' % ai_date.day]\n",
    "ai_date_nn = ''.join(ai_date_n)\n",
    "# print(ai_date_n)\n",
    "ai_date = ai_date - datetime.timedelta(days=90)\n",
    "ai_date = ['%04d' % ai_date.year, '%02d' % ai_date.month,'%02d' % ai_date.day]\n",
    "ai_date_pp = ''.join(ai_date)\n",
    "# print(ai_date_pp)\n",
    "ac_category = list(item_category['카테고리'])\n",
    "\n",
    "for idx, category in enumerate(ac_category):\n",
    "    item_result = item_result.astype({'등록일자':'int'})\n",
    "    an_category = (item_result.카테고리 == category)\n",
    "    an_date = (item_result.등록일자 > int(ai_date_pp))\n",
    "    an_pur = (item_result.구매 != 0)\n",
    "    an_zzim = (item_result.찜 != 0)\n",
    "    an_con = (item_result.문의 != 0)\n",
    "    an_df = item_result.loc[an_category & an_date & (an_pur | an_zzim | an_con), ['상품명', '태그']]\n",
    "    # print(an_df)\n",
    "    an_title = an_df['상품명'].tolist()\n",
    "    an_title = ' '.join(map(str, an_title))\n",
    "    an_tag = an_df['태그']\n",
    "    an_tag = an_tag.dropna(axis=0)\n",
    "    an_tag = an_tag.tolist()\n",
    "\n",
    "    an_tag = ' '.join(map(str, an_tag))\n",
    "    an_title = an_title.split(' ')\n",
    "    an_tag = an_tag.split(',')\n",
    "\n",
    "    an_title_list = collections.Counter(an_title)\n",
    "    an_tag_list = collections.Counter(an_tag)\n",
    "    an_title_most = an_title_list.most_common(10)\n",
    "    an_tag_most = an_tag_list.most_common(10)\n",
    "    an_title_list = {}\n",
    "    an_tag_list = {}\n",
    "    for n, c in an_title_most:\n",
    "        an_title_list[n] = c\n",
    "    for n, c in an_tag_most:\n",
    "        an_tag_list[n] = c\n",
    "    an_title_list = ' '.join(map(str, an_title_list.keys()))\n",
    "    an_tag_list = ' '.join(map(str, an_tag_list.keys()))\n",
    "    \n",
    "    item_category.loc[idx, '상품명_추천'] = an_title_list\n",
    "    item_category.loc[idx, '상품명_추천'] = an_tag_list\n",
    "\n",
    "print(item_category)"
   ]
  },
  {
   "cell_type": "code",
   "execution_count": 79,
   "metadata": {},
   "outputs": [],
   "source": [
    "import pymysql\n",
    "recommend_code = 'youngmusk0308'\n",
    "db_id = 'musk'\n",
    "con_user = pymysql.connect(host='3.39.22.73', user='young_write', password='0000', db='trend', charset='utf8')\n",
    "cur_user = con_user.cursor()\n",
    "#프로그램 버젼 확인\n",
    "sql = \"UPDATE recommend SET cnt=cnt+1 WHERE code=%s;\"\n",
    "cur_user.execute(sql, recommend_code)\n",
    "sql = \"UPDATE check_login SET recommend=recommend+1 WHERE id=%s;\"\n",
    "cur_user.execute(sql, db_id)\n",
    "con_user.commit()\n",
    "con_user.close()"
   ]
  },
  {
   "cell_type": "code",
   "execution_count": 72,
   "metadata": {},
   "outputs": [
    {
     "name": "stdout",
     "output_type": "stream",
     "text": [
      "https://living-only-today.tistory.com/82\n"
     ]
    },
    {
     "data": {
      "text/plain": [
       "True"
      ]
     },
     "execution_count": 72,
     "metadata": {},
     "output_type": "execute_result"
    }
   ],
   "source": [
    "a = 'https://living-only-today.tistory.com/82'\n",
    "print(a)\n",
    "\n",
    "a != ''"
   ]
  },
  {
   "cell_type": "code",
   "execution_count": 54,
   "metadata": {},
   "outputs": [
    {
     "name": "stdout",
     "output_type": "stream",
     "text": [
      "-3\n"
     ]
    }
   ],
   "source": [
    "import datetime\n",
    "dt_now = datetime.datetime.now()\n",
    "register_date = dt_now.date()\n",
    "dt_pre = dt_now + datetime.timedelta(days=3)\n",
    "premium_date = dt_pre.date()\n",
    "\n",
    "a = register_date - premium_date\n",
    "print(a.days)"
   ]
  },
  {
   "cell_type": "code",
   "execution_count": 80,
   "metadata": {},
   "outputs": [],
   "source": [
    "import pymysql\n",
    "id = 'musk'\n",
    "try:\n",
    "    con_user = pymysql.connect(host='3.39.22.73', user='youngmusk', password='9404', db='trend', charset='utf8')\n",
    "    cur_user = con_user.cursor()\n",
    "    #프리미엄 기간 추가\n",
    "    sql = \"UPDATE check_login SET premium=DATE_ADD(premium, interval 3 DAY) WHERE id=%s;\"\n",
    "    # sql = \"UPDATE check_login SET premium=DATE_SUB(premium, interval 3 DAY) WHERE id=%s;\"\n",
    "    cur_user.execute(sql, id)\n",
    "    sql = \"UPDATE youngmusk_login SET premium=DATE_ADD(premium, interval 3 DAY) WHERE id=%s;\"\n",
    "    # sql = \"UPDATE youngmusk_login SET premium=DATE_SUB(premium, interval 3 DAY) WHERE id=%s;\"\n",
    "    cur_user.execute(sql, id)\n",
    "except:\n",
    "    print(1)\n",
    "finally:\n",
    "    con_user.commit()\n",
    "    con_user.close()"
   ]
  },
  {
   "cell_type": "code",
   "execution_count": 33,
   "metadata": {},
   "outputs": [],
   "source": [
    "import pymysql\n",
    "d = 'musk'\n",
    "try:\n",
    "    con_user = pymysql.connect(host='3.39.22.73', user='young_write', password='0000', db='trend', charset='utf8')\n",
    "    cur_user = con_user.cursor()\n",
    "    #프로그램 버젼 확인\n",
    "    sql = \"UPDATE check_login SET review=review+1 WHERE id=%s;\"\n",
    "    cur_user.execute(sql, d)\n",
    "except:\n",
    "    print(1)\n",
    "finally:\n",
    "    con_user.commit()\n",
    "    con_user.close()"
   ]
  },
  {
   "cell_type": "code",
   "execution_count": 24,
   "metadata": {},
   "outputs": [
    {
     "name": "stdout",
     "output_type": "stream",
     "text": [
      "ddd\n"
     ]
    }
   ],
   "source": [
    "import pymysql\n",
    "ddd= 0\n",
    "\n",
    "con_user = pymysql.connect(host='3.39.22.73', user='young_write', password='0000', db='trend', charset='utf8')\n",
    "cur_user = con_user.cursor()\n",
    "sql = f\"INSERT INTO review_list (id, link, give, date) VALUES ('222','222','1','2022-01-01');\"\n",
    "cur_user.execute(sql)\n",
    "\n",
    "print(\"ddd\")\n",
    "\n",
    "con_user.commit()\n",
    "con_user.close()"
   ]
  },
  {
   "cell_type": "code",
   "execution_count": 14,
   "metadata": {},
   "outputs": [
    {
     "name": "stdout",
     "output_type": "stream",
     "text": [
      "https://youngmusk.imweb.me/TREND/?q=YToxOntzOjEyOiJrZXl3b3JkX3R5cGUiO3M6MzoiYWxsIjt9&bmode=view&idx=13117956&t=board\n"
     ]
    }
   ],
   "source": [
    "import pymysql\n",
    "try:\n",
    "    con_user = pymysql.connect(host='3.39.22.73', user='young_read', password='0000', db='trend', charset='utf8')\n",
    "    cur_user = con_user.cursor()\n",
    "    sql = \"SELECT * FROM web_link WHERE button=%s;\"\n",
    "    cur_user.execute(sql, '7일 무료체험')\n",
    "    free_seven = cur_user.fetchall()\n",
    "    free_seven_link = free_seven[0][2]\n",
    "    print(free_seven_link)\n",
    "except:\n",
    "    # msg.setWindowTitle('알림')\n",
    "    # msg.setText('신규 회원가입을 진행해주시거나\\n회원가입을 진행했던 PC에서 로그인을 시도해주세요.')\n",
    "    # msg.exec_()\n",
    "    print(\"실패\")\n",
    "    # return"
   ]
  }
 ],
 "metadata": {
  "kernelspec": {
   "display_name": "Python 3.10.1 64-bit",
   "language": "python",
   "name": "python3"
  },
  "language_info": {
   "codemirror_mode": {
    "name": "ipython",
    "version": 3
   },
   "file_extension": ".py",
   "mimetype": "text/x-python",
   "name": "python",
   "nbconvert_exporter": "python",
   "pygments_lexer": "ipython3",
   "version": "3.10.1"
  },
  "orig_nbformat": 4,
  "vscode": {
   "interpreter": {
    "hash": "6ebce38c8dc4982e7470202f96e406ae6f64f6e75b60976cf5e1a26a1eb6b3fa"
   }
  }
 },
 "nbformat": 4,
 "nbformat_minor": 2
}
